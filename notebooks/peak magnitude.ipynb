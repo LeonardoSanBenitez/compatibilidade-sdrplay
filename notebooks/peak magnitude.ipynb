{
 "cells": [
  {
   "cell_type": "code",
   "execution_count": 8,
   "id": "23ac59d3",
   "metadata": {},
   "outputs": [],
   "source": [
    "#pip install matplotlib control"
   ]
  },
  {
   "cell_type": "code",
   "execution_count": 23,
   "id": "02427150",
   "metadata": {},
   "outputs": [],
   "source": [
    "from pylab import *\n",
    "\n",
    "import numpy as np\n",
    "import matplotlib.pyplot as plt\n",
    "from matplotlib.mlab import psd\n",
    "import control\n",
    "from time import sleep\n",
    "import math\n",
    "import time\n",
    "from pprint import pprint\n",
    "\n",
    "import SoapySDR as sp\n"
   ]
  },
  {
   "cell_type": "code",
   "execution_count": 10,
   "id": "209d462e",
   "metadata": {},
   "outputs": [
    {
     "name": "stderr",
     "output_type": "stream",
     "text": [
      "[INFO] devIdx: 0\n",
      "[INFO] SerNo: B0001P0004\n",
      "[INFO] hwVer: 1\n",
      "[INFO] rspDuoMode: 0\n",
      "[INFO] tuner: 1\n",
      "[INFO] rspDuoSampleFreq: 0.000000\n"
     ]
    }
   ],
   "source": [
    "args = dict(driver=\"sdrplay\")\n",
    "sdr = sp.Device(args)"
   ]
  },
  {
   "cell_type": "code",
   "execution_count": 37,
   "id": "c3d26ffb",
   "metadata": {},
   "outputs": [],
   "source": [
    "def fazer_aquisicao(sample_rate, center_freq, gain, nsamples, verbose: bool = False):\n",
    "    if sample_rate < 1e6:\n",
    "        if verbose: print(\"sample_rate precisa estar entre 1e6 e 2e6\")\n",
    "        return\n",
    "    if gain < 1:\n",
    "        if verbose: print(\"gain precisa ser maior igual a 1\")\n",
    "   \n",
    "    args = dict(driver=\"sdrplay\")\n",
    "    sdr = sp.Device(args)\n",
    "    rx_chan = 0\n",
    "    gain = 42 - gain\n",
    "    sdr.setSampleRate(sp.SOAPY_SDR_RX, rx_chan, sample_rate)\n",
    "    sdr.setFrequency(sp.SOAPY_SDR_RX, rx_chan, center_freq)\n",
    "    sdr.setGainMode(sp.SOAPY_SDR_RX, rx_chan, False) # turn off AGC\n",
    "    sdr.setGain(sp.SOAPY_SDR_RX, rx_chan, gain)\n",
    "   \n",
    "    max_nsamples = 32256\n",
    "    rodadas = 1\n",
    "    if nsamples > max_nsamples:\n",
    "        rodadas = math.ceil(nsamples/max_nsamples)\n",
    "\n",
    "    if verbose: print(\"[INFO]Para\", nsamples, \"serão feitas\", rodadas, \"medidas\")\n",
    "    rxStream = sdr.setupStream(sp.SOAPY_SDR_RX, sp.SOAPY_SDR_CF32)\n",
    "    if verbose: print(\"faxa de ganho\")\n",
    "    if verbose: print(sdr.getGainRange(sp.SOAPY_SDR_RX, rx_chan))\n",
    "    \n",
    "    if verbose: print(\"[DONE]setup\")\n",
    "    \n",
    "    sdr.activateStream(rxStream) #start streaming\n",
    "    if verbose: print(\"[DONE]activateStream\")\n",
    "    \n",
    "    _samples = np.array([0]*max_nsamples, np.complex64)\n",
    "    samples = np.array([], np.complex64)\n",
    "    mperdidas = 0;\n",
    "    t0 = time.time()\n",
    "    for j in range(rodadas):        \n",
    "        for i in range(20):\n",
    "            sr = sdr.readStream(rxStream, [_samples], len(_samples))\n",
    "            if sr.ret > 0:                \n",
    "                break\n",
    "            if i == 19:\n",
    "                mperdidas = mperdidas + 1\n",
    "                print(\"[ERROR]readStream\", sr.ret)\n",
    "                print(\"[INFO]\", mperdidas, \"/\", rodadas, \"medidas perdidas\")\n",
    "                break\n",
    "        samples = np.concatenate([samples, _samples])\n",
    "    t1 = time.time()\n",
    "    if verbose: print(\"Aquisição demorou\", t1-t0, \"s\")\n",
    "    sdr.deactivateStream(rxStream) #stop streaming\n",
    "    sdr.closeStream(rxStream)\n",
    "    sleep(1)\n",
    "    if verbose: print(\"[DONE]fechou\")\n",
    "    return samples\n",
    "\n",
    "def fazer_grafico(samples, sample_rate, center_freq, verbose: bool = False):\n",
    "    if sample_rate < 1e6:\n",
    "        if verbose: print(\"sample_rate precisa ser maior igual a 1e6\")\n",
    "        return\n",
    "    if center_freq < 1e6:\n",
    "        if verbose: print(\"center_freq precisa ser maior igual a 1e6\")\n",
    "        return    \n",
    "    NFFT = 1024\n",
    "    plt.figure()\n",
    "    plt.psd(samples, NFFT=NFFT, Fs=sample_rate/1e6, Fc=center_freq/1e6, color='crimson')    \n",
    "    \n",
    "    xlabel('Frequency (MHz)')\n",
    "    ylabel('Relative power (dB)') \n",
    "    #plt.savefig(\"psd.png\")\n",
    "    \n",
    "def obter_magnitude(freq, samples, sample_rate, center_freq, verbose: bool = False):\n",
    "    if sample_rate < 1e6:\n",
    "        if verbose: print(\"sample_rate precisa ser maior igual a 1e6\")\n",
    "        return\n",
    "    if center_freq < 1e6:\n",
    "        if verbose: print(\"center_freq precisa ser maior igual a 1e6\")\n",
    "        return\n",
    "    sample_rate = sample_rate/1e6\n",
    "    center_freq = center_freq/1e6\n",
    "    freq = freq/1e6\n",
    "    NFFT = 1024\n",
    "    axes = psd(samples, NFFT=NFFT, Fs=sample_rate)\n",
    "    y = 10*np.log10(axes[0])\n",
    "    x = axes[1] + center_freq\n",
    "    if verbose: print(f'A aplitude máxima é {y.max()}')\n",
    "    i = find_nearest(x, freq)    \n",
    "    return x[i],y[i]\n",
    "\n",
    "def obter_magnitude_max(freq, samples, sample_rate, center_freq, verbose: bool = False):\n",
    "    if sample_rate < 1e6:\n",
    "        if verbose: print(\"sample_rate precisa ser maior igual a 1e6\")\n",
    "        return\n",
    "    if center_freq < 1e6:\n",
    "        if verbose: print(\"center_freq precisa ser maior igual a 1e6\")\n",
    "        return\n",
    "    sample_rate = sample_rate/1e6\n",
    "    center_freq = center_freq/1e6\n",
    "    freq = freq/1e6\n",
    "    NFFT = 1024\n",
    "    axes = psd(samples, NFFT=NFFT, Fs=sample_rate)\n",
    "    y = 10*np.log10(axes[0])\n",
    "    x = axes[1] + center_freq\n",
    "    \n",
    "    max_freq = y.max()\n",
    "    i = find_nearest(y, max_freq) \n",
    "    if verbose: print(f'A aplitude máxima é {max_freq}', x[i], y[i])\n",
    "       \n",
    "    return x[i], y[i]\n",
    "\n",
    "def find_nearest(array, value):\n",
    "    #https://stackoverflow.com/questions/2566412/find-nearest-value-in-numpy-array\n",
    "    array = np.asarray(array)\n",
    "    idx = (np.abs(array - value)).argmin()\n",
    "    return idx\n",
    "\n",
    "def obter_magnitude_sem_ganho(mag, ganho):\n",
    "    amp = control.db2mag(mag)/ganho\n",
    "    return 20*np.log10(amp)"
   ]
  },
  {
   "cell_type": "code",
   "execution_count": 45,
   "id": "74763fe0",
   "metadata": {},
   "outputs": [
    {
     "data": {
      "text/plain": [
       "[10.2, 20.2, 30.2, 40.2, 50.2, 60.2, 70.2, 80.2, 90.2]"
      ]
     },
     "execution_count": 45,
     "metadata": {},
     "output_type": "execute_result"
    }
   ],
   "source": []
  },
  {
   "cell_type": "code",
   "execution_count": 136,
   "id": "3c5fe692",
   "metadata": {},
   "outputs": [
    {
     "name": "stderr",
     "output_type": "stream",
     "text": [
      "[INFO] Using format CF32.\n",
      "[INFO] Using format CF32.\n",
      "[INFO] Using format CF32.\n",
      "[INFO] Using format CF32.\n",
      "[INFO] Using format CF32.\n",
      "[INFO] Using format CF32.\n",
      "[INFO] Using format CF32.\n",
      "[INFO] Using format CF32.\n",
      "[INFO] Using format CF32.\n",
      "[INFO] Using format CF32.\n"
     ]
    },
    {
     "name": "stdout",
     "output_type": "stream",
     "text": [
      "Total execution time: 17.648067235946655s\n",
      "{10.2: -29.897048354481356}\n",
      "-29.665485071694114\n",
      "-29.792147005620034\n",
      "-29.79457392272048\n",
      "-29.793379403931848\n",
      "-29.791239821398143\n",
      "-29.843527201316704\n",
      "-29.841913389416774\n",
      "-29.85884369895363\n",
      "-29.880079020406136\n",
      "-29.897048354481356\n"
     ]
    }
   ],
   "source": [
    "sample_rate = 1e6\n",
    "#center_freq = 5.2e6\n",
    "measurement_time = 0.2 #o SDR demora sempre +-60ms a mais\n",
    "gain = 0\n",
    "#freq_list = [f+0.2 for f in range(10, 210, 10)] # in MHz\n",
    "freq_list = [10.2]*10\n",
    "amplitude_list = [] # in dB\n",
    "\n",
    "t0 = time.time()\n",
    "for i in range(len(freq_list)):\n",
    "    center_freq = freq_list[i]*1e6\n",
    "    samples = fazer_aquisicao(\n",
    "        sample_rate = sample_rate,\n",
    "        center_freq = center_freq,\n",
    "        gain = gain,\n",
    "        nsamples = int(measurement_time*sample_rate),\n",
    "    )\n",
    "\n",
    "    #fazer_grafico(\n",
    "    #    samples = samples,\n",
    "    #    sample_rate = sample_rate,\n",
    "    #    center_freq = center_freq\n",
    "    #)\n",
    "    freq, mag = obter_magnitude_max(\n",
    "        freq = center_freq,\n",
    "        samples = samples,\n",
    "        sample_rate = sample_rate,\n",
    "        center_freq = center_freq,\n",
    "    )\n",
    "    amplitude_list.append(mag)\n",
    "    #print(\"Na frequência\", freq, \"a magnitude é de\", mag, \"dB\")\n",
    "t1 = time.time()\n",
    "print(f'Total execution time: {t1-t0}s')\n",
    "pprint(dict(zip(freq_list, amplitude_list)))\n",
    "for a in amplitude_list:\n",
    "    print(a)"
   ]
  },
  {
   "cell_type": "code",
   "execution_count": 130,
   "id": "a185b430",
   "metadata": {},
   "outputs": [],
   "source": []
  },
  {
   "cell_type": "code",
   "execution_count": null,
   "id": "1fef28ad",
   "metadata": {},
   "outputs": [],
   "source": []
  },
  {
   "cell_type": "code",
   "execution_count": null,
   "id": "d276bf48",
   "metadata": {},
   "outputs": [],
   "source": []
  },
  {
   "cell_type": "code",
   "execution_count": null,
   "id": "50ea750b",
   "metadata": {},
   "outputs": [],
   "source": []
  },
  {
   "cell_type": "code",
   "execution_count": 117,
   "id": "c64e8810",
   "metadata": {},
   "outputs": [
    {
     "name": "stderr",
     "output_type": "stream",
     "text": [
      "[INFO] Using format CF32.\n"
     ]
    },
    {
     "name": "stdout",
     "output_type": "stream",
     "text": [
      "Na frequência 24.9998046875 a magnitude é de -27.596364144586296 dB\n"
     ]
    },
    {
     "data": {
      "image/png": "[encoded data removed]",
      "text/plain": [
       "<Figure size 432x288 with 1 Axes>"
      ]
     },
     "metadata": {
      "needs_background": "light"
     },
     "output_type": "display_data"
    }
   ],
   "source": [
    "sample_rate = 1e6\n",
    "center_freq = 25.2e6\n",
    "measurement_time = 0.2 #o SDR demora sempre +-60ms a mais\n",
    "gain = 0\n",
    "\n",
    "samples = fazer_aquisicao(\n",
    "    sample_rate = sample_rate,\n",
    "    center_freq = center_freq,\n",
    "    gain = gain,\n",
    "    nsamples = int(measurement_time*sample_rate),\n",
    ")\n",
    "\n",
    "fazer_grafico(\n",
    "    samples = samples,\n",
    "    sample_rate = sample_rate,\n",
    "    center_freq = center_freq\n",
    ")\n",
    "freq, mag = obter_magnitude_max(\n",
    "    freq = center_freq,\n",
    "    samples = samples,\n",
    "    sample_rate = sample_rate,\n",
    "    center_freq = center_freq,\n",
    ")\n",
    "print(\"Na frequência\", freq, \"a magnitude é de\", mag, \"dB\")"
   ]
  },
  {
   "cell_type": "code",
   "execution_count": 119,
   "id": "38272cb6",
   "metadata": {},
   "outputs": [
    {
     "name": "stdout",
     "output_type": "stream",
     "text": [
      "-29.890766914141413\n",
      "-68.84513416754713\n",
      "-40.502898799213575\n",
      "-69.21953271393991\n",
      "-45.80724446096756\n",
      "-63.02998670657509\n",
      "-37.718198874374494\n",
      "-64.95207997997075\n",
      "-57.560440912667225\n",
      "-69.01667688066654\n",
      "-69.08837065729995\n",
      "-65.59777416346287\n",
      "-59.71239988187335\n",
      "-64.13612297976124\n",
      "-59.31593615740547\n",
      "-68.86317994986057\n",
      "-69.10991008454708\n",
      "-69.11594311224422\n",
      "-69.18131666599798\n"
     ]
    }
   ],
   "source": [
    "[print(a) for a in amplitude_list]; #ganho 0"
   ]
  },
  {
   "cell_type": "code",
   "execution_count": null,
   "id": "debd2088",
   "metadata": {},
   "outputs": [],
   "source": []
  },
  {
   "cell_type": "code",
   "execution_count": null,
   "id": "dc1b0587",
   "metadata": {},
   "outputs": [],
   "source": []
  },
  {
   "cell_type": "code",
   "execution_count": null,
   "id": "bf623a8c",
   "metadata": {},
   "outputs": [],
   "source": []
  },
  {
   "cell_type": "code",
   "execution_count": null,
   "id": "14d91903",
   "metadata": {},
   "outputs": [],
   "source": [
    "\n"
   ]
  }
 ],
 "metadata": {
  "kernelspec": {
   "display_name": "Python 3 (ipykernel)",
   "language": "python",
   "name": "python3"
  },
  "language_info": {
   "codemirror_mode": {
    "name": "ipython",
    "version": 3
   },
   "file_extension": ".py",
   "mimetype": "text/x-python",
   "name": "python",
   "nbconvert_exporter": "python",
   "pygments_lexer": "ipython3",
   "version": "3.8.10"
  }
 },
 "nbformat": 4,
 "nbformat_minor": 5
}
