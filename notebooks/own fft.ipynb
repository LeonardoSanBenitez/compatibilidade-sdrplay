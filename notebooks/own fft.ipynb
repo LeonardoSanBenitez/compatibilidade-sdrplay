{
 "cells": [
  {
   "cell_type": "code",
   "execution_count": 5,
   "id": "a79def9b",
   "metadata": {},
   "outputs": [
    {
     "name": "stdout",
     "output_type": "stream",
     "text": [
      "Collecting control\n",
      "  Downloading control-0.9.1.tar.gz (357 kB)\n",
      "\u001b[K     |████████████████████████████████| 357 kB 634 kB/s eta 0:00:01\n",
      "\u001b[?25hRequirement already satisfied: matplotlib in /home/benitez/.local/lib/python3.8/site-packages (from control) (3.5.1)\n",
      "Requirement already satisfied: numpy in /home/benitez/.local/lib/python3.8/site-packages (from control) (1.21.5)\n",
      "Requirement already satisfied: scipy in /home/benitez/.local/lib/python3.8/site-packages (from control) (1.7.3)\n",
      "Requirement already satisfied: pillow>=6.2.0 in /usr/lib/python3/dist-packages (from matplotlib->control) (7.0.0)\n",
      "Requirement already satisfied: pyparsing>=2.2.1 in /home/benitez/.local/lib/python3.8/site-packages (from matplotlib->control) (3.0.6)\n",
      "Requirement already satisfied: fonttools>=4.22.0 in /home/benitez/.local/lib/python3.8/site-packages (from matplotlib->control) (4.28.5)\n",
      "Requirement already satisfied: packaging>=20.0 in /home/benitez/.local/lib/python3.8/site-packages (from matplotlib->control) (21.3)\n",
      "Requirement already satisfied: python-dateutil>=2.7 in /home/benitez/.local/lib/python3.8/site-packages (from matplotlib->control) (2.8.2)\n",
      "Requirement already satisfied: cycler>=0.10 in /home/benitez/.local/lib/python3.8/site-packages (from matplotlib->control) (0.11.0)\n",
      "Requirement already satisfied: kiwisolver>=1.0.1 in /home/benitez/.local/lib/python3.8/site-packages (from matplotlib->control) (1.3.2)\n",
      "Requirement already satisfied: six>=1.5 in /usr/lib/python3/dist-packages (from python-dateutil>=2.7->matplotlib->control) (1.14.0)\n",
      "Building wheels for collected packages: control\n",
      "  Building wheel for control (setup.py) ... \u001b[?25ldone\n",
      "\u001b[?25h  Created wheel for control: filename=control-0.9.1-py2.py3-none-any.whl size=364696 sha256=b11fee18ddfd55d7b35a7b47d7ba85da8c5574f98347af38972a209a32ed9561\n",
      "  Stored in directory: /home/benitez/.cache/pip/wheels/6e/8e/71/ee16865ba735139c6b4b9581a60028b7bf63468071ee308cb1\n",
      "Successfully built control\n",
      "Installing collected packages: control\n",
      "Successfully installed control-0.9.1\n"
     ]
    }
   ],
   "source": [
    "!pip install control"
   ]
  },
  {
   "cell_type": "code",
   "execution_count": 1,
   "id": "2234dec0",
   "metadata": {},
   "outputs": [],
   "source": [
    "from pylab import *\n",
    "\n",
    "import numpy as np\n",
    "import matplotlib.pyplot as plt\n",
    "from matplotlib.mlab import psd\n",
    "import control\n",
    "from time import sleep\n",
    "import math\n",
    "\n",
    "\n",
    "import SoapySDR as sp\n"
   ]
  },
  {
   "cell_type": "code",
   "execution_count": 66,
   "id": "13c8fced",
   "metadata": {},
   "outputs": [],
   "source": [
    "\n",
    "\n",
    "sample_rate = 2e6\n",
    "center_freq = 0.5e6\n",
    "\n"
   ]
  },
  {
   "cell_type": "code",
   "execution_count": 67,
   "id": "1584affe",
   "metadata": {},
   "outputs": [],
   "source": [
    "args = dict(driver=\"sdrplay\")\n",
    "sdr = sp.Device(args)"
   ]
  },
  {
   "cell_type": "code",
   "execution_count": 68,
   "id": "21a59a7f",
   "metadata": {},
   "outputs": [],
   "source": [
    "def fazer_aquisicao(sample_rate, center_freq, gain, nsamples):\n",
    "    if sample_rate < 1e6:\n",
    "        print(\"sample_rate precisa estar entre 1e6 e 2e6\")\n",
    "        return\n",
    "    if gain < 1:\n",
    "        print(\"gain precisa ser maior igual a 1\")\n",
    "   \n",
    "    args = dict(driver=\"sdrplay\")\n",
    "    sdr = sp.Device(args)\n",
    "    rx_chan = 0\n",
    "    gain = 42 - gain\n",
    "    sdr.setSampleRate(sp.SOAPY_SDR_RX, rx_chan, sample_rate)\n",
    "    sdr.setFrequency(sp.SOAPY_SDR_RX, rx_chan, center_freq)\n",
    "    sdr.setGainMode(sp.SOAPY_SDR_RX, rx_chan, False) # turn off AGC\n",
    "    sdr.setGain(sp.SOAPY_SDR_RX, rx_chan, gain)\n",
    "   \n",
    "    max_nsamples = 32256\n",
    "    rodadas = 1\n",
    "    if nsamples > max_nsamples:\n",
    "        rodadas = math.ceil(nsamples/max_nsamples)\n",
    "\n",
    "    print(\"[INFO]Para\", nsamples, \"serão feitas\", rodadas, \"medidas\")\n",
    "    rxStream = sdr.setupStream(sp.SOAPY_SDR_RX, sp.SOAPY_SDR_CF32)\n",
    "    print(\"faxa de ganho\")\n",
    "    print(sdr.getGainRange(sp.SOAPY_SDR_RX, rx_chan))\n",
    "    \n",
    "    print(\"[DONE]setup\")\n",
    "    \n",
    "    sdr.activateStream(rxStream) #start streaming\n",
    "    print(\"[DONE]activateStream\")\n",
    "    \n",
    "    _samples = np.array([0]*max_nsamples, np.complex64)\n",
    "    samples = np.array([], np.complex64)\n",
    "    mperdidas = 0;\n",
    "    for j in range(rodadas):        \n",
    "        for i in range(20):\n",
    "            sr = sdr.readStream(rxStream, [_samples], len(_samples))\n",
    "            if sr.ret > 0:                \n",
    "                break\n",
    "            if i == 19:\n",
    "                mperdidas = mperdidas + 1\n",
    "                print(\"[ERROR]readStream\", sr.ret)\n",
    "                print(\"[INFO]\", mperdidas, \"/\", rodadas, \"medidas perdidas\")\n",
    "                break\n",
    "        samples = np.concatenate([samples, _samples])\n",
    "    sdr.deactivateStream(rxStream) #stop streaming\n",
    "    sdr.closeStream(rxStream)\n",
    "    sleep(1)\n",
    "    print(\"[DONE]fechou\")\n",
    "    return samples\n",
    "\n",
    "def fazer_grafico(samples, sample_rate, center_freq):\n",
    "    if sample_rate < 1e6:\n",
    "        print(\"sample_rate precisa ser maior igual a 1e6\")\n",
    "        return\n",
    "    if center_freq < 1e6:\n",
    "        print(\"center_freq precisa ser maior igual a 1e6\")\n",
    "        return    \n",
    "    NFFT = 1024\n",
    "    plt.figure()\n",
    "    plt.psd(samples, NFFT=NFFT, Fs=sample_rate/1e6, Fc=center_freq/1e6, color='crimson')    \n",
    "    \n",
    "    xlabel('Frequency (MHz)')\n",
    "    ylabel('Relative power (dB)') \n",
    "    #plt.savefig(\"psd.png\")\n",
    "    \n",
    "def obter_magnitude(freq, samples, sample_rate, center_freq):\n",
    "    if sample_rate < 1e6:\n",
    "        print(\"sample_rate precisa ser maior igual a 1e6\")\n",
    "        return\n",
    "    if center_freq < 1e6:\n",
    "        print(\"center_freq precisa ser maior igual a 1e6\")\n",
    "        return\n",
    "    sample_rate = sample_rate/1e6\n",
    "    center_freq = center_freq/1e6\n",
    "    freq = freq/1e6\n",
    "    NFFT = 1024\n",
    "    axes = psd(samples, NFFT=NFFT, Fs=sample_rate)\n",
    "    y = 10*np.log10(axes[0])\n",
    "    x = axes[1] + center_freq\n",
    "    i = find_nearest(x, freq)    \n",
    "    return x[i],y[i]\n",
    "\n",
    "def find_nearest(array, value):\n",
    "    #https://stackoverflow.com/questions/2566412/find-nearest-value-in-numpy-array\n",
    "    array = np.asarray(array)\n",
    "    idx = (np.abs(array - value)).argmin()\n",
    "    return idx\n",
    "\n",
    "def obter_magnitude_sem_ganho(mag, ganho):\n",
    "    amp = control.db2mag(mag)/ganho\n",
    "    return 20*np.log10(amp)"
   ]
  },
  {
   "cell_type": "code",
   "execution_count": 118,
   "id": "33604450",
   "metadata": {},
   "outputs": [
    {
     "data": {
      "text/plain": [
       "2"
      ]
     },
     "execution_count": 118,
     "metadata": {},
     "output_type": "execute_result"
    }
   ],
   "source": []
  },
  {
   "cell_type": "code",
   "execution_count": 150,
   "id": "f978691f",
   "metadata": {},
   "outputs": [
    {
     "name": "stdout",
     "output_type": "stream",
     "text": [
      "[INFO]Para 1024 serão feitas 1 medidas\n",
      "faxa de ganho\n",
      "0, 42\n",
      "[DONE]setup\n"
     ]
    },
    {
     "name": "stderr",
     "output_type": "stream",
     "text": [
      "[INFO] Using format CF32.\n"
     ]
    },
    {
     "name": "stdout",
     "output_type": "stream",
     "text": [
      "[DONE]activateStream\n",
      "[DONE]fechou\n",
      "triagular_20khz_a_sr=2e6;cf=100e3\n"
     ]
    },
    {
     "data": {
      "image/png": "[encoded data removed]",
      "text/plain": [
       "<Figure size 432x288 with 1 Axes>"
      ]
     },
     "metadata": {
      "needs_background": "light"
     },
     "output_type": "display_data"
    },
    {
     "data": {
      "image/png": "[encoded data removed]",
      "text/plain": [
       "<Figure size 432x288 with 1 Axes>"
      ]
     },
     "metadata": {
      "needs_background": "light"
     },
     "output_type": "display_data"
    }
   ],
   "source": [
    "sample_rate = 2e6\n",
    "center_freq = 0.1e6\n",
    "\n",
    "samples = fazer_aquisicao(\n",
    "    sample_rate = sample_rate,\n",
    "    center_freq = center_freq,\n",
    "    gain = 1,\n",
    "    nsamples = 1024\n",
    ")\n",
    "\n",
    "NFFT = 1024\n",
    "plt.figure()\n",
    "plt.psd(samples, NFFT=NFFT, Fs=sample_rate/1e6, Fc=center_freq/1e6, color='crimson')    \n",
    "\n",
    "xlabel('Frequency (MHz)')\n",
    "ylabel('Relative power (dB)')\n",
    "\n",
    "\n",
    "\n",
    "name = f'triagular_20khz_a_sr={int(sample_rate/1e6)}e6;cf={int(center_freq/1e3)}e3'\n",
    "print(name)\n",
    "np.save(f'measurements/{name}.npy', samples)\n",
    "plt.savefig(f'measurements/{name}.png')\n",
    "\n",
    "def plot_fft(x:np.array, fs:int):\n",
    "    plt.figure()\n",
    "    N = x.shape[0]\n",
    "    T = 1/fs\n",
    "    f = fft(x)\n",
    "    xf = fftfreq(N, T)[:N//2]\n",
    "    \n",
    "    plt.plot(xf, 2.0/N * np.abs(f[0:N//2]))\n",
    "    plt.grid()\n",
    "plot_fft(samples, fs=sample_rate)"
   ]
  },
  {
   "cell_type": "code",
   "execution_count": 127,
   "id": "09552407",
   "metadata": {},
   "outputs": [
    {
     "data": {
      "text/plain": [
       "array([ 0.0000000e+00+0.j        , -3.0517578e-05+0.j        ,\n",
       "        6.1035156e-05+0.j        , ...,  1.1596680e-03-0.00024414j,\n",
       "        5.4931641e-04-0.00054932j,  1.8310547e-04-0.00054932j],\n",
       "      dtype=complex64)"
      ]
     },
     "execution_count": 127,
     "metadata": {},
     "output_type": "execute_result"
    }
   ],
   "source": [
    "samples"
   ]
  },
  {
   "cell_type": "code",
   "execution_count": 69,
   "id": "3ef14b13",
   "metadata": {},
   "outputs": [
    {
     "name": "stdout",
     "output_type": "stream",
     "text": [
      "[INFO]Para 1024 serão feitas 1 medidas\n",
      "faxa de ganho\n",
      "0, 42\n",
      "[DONE]setup\n"
     ]
    },
    {
     "name": "stderr",
     "output_type": "stream",
     "text": [
      "[INFO] Using format CF32.\n"
     ]
    },
    {
     "name": "stdout",
     "output_type": "stream",
     "text": [
      "[DONE]activateStream\n",
      "[DONE]fechou\n",
      "center_freq precisa ser maior igual a 1e6\n",
      "center_freq precisa ser maior igual a 1e6\n"
     ]
    },
    {
     "ename": "TypeError",
     "evalue": "cannot unpack non-iterable NoneType object",
     "output_type": "error",
     "traceback": [
      "\u001b[0;31m---------------------------------------------------------------------------\u001b[0m",
      "\u001b[0;31mTypeError\u001b[0m                                 Traceback (most recent call last)",
      "\u001b[0;32m/tmp/ipykernel_7875/2953253885.py\u001b[0m in \u001b[0;36m<module>\u001b[0;34m\u001b[0m\n\u001b[1;32m     10\u001b[0m     \u001b[0mcenter_freq\u001b[0m \u001b[0;34m=\u001b[0m \u001b[0mcenter_freq\u001b[0m\u001b[0;34m\u001b[0m\u001b[0;34m\u001b[0m\u001b[0m\n\u001b[1;32m     11\u001b[0m )\n\u001b[0;32m---> 12\u001b[0;31m freq, mag = obter_magnitude(\n\u001b[0m\u001b[1;32m     13\u001b[0m     \u001b[0mfreq\u001b[0m \u001b[0;34m=\u001b[0m \u001b[0mcenter_freq\u001b[0m\u001b[0;34m,\u001b[0m\u001b[0;34m\u001b[0m\u001b[0;34m\u001b[0m\u001b[0m\n\u001b[1;32m     14\u001b[0m     \u001b[0msamples\u001b[0m \u001b[0;34m=\u001b[0m \u001b[0msamples\u001b[0m\u001b[0;34m,\u001b[0m\u001b[0;34m\u001b[0m\u001b[0;34m\u001b[0m\u001b[0m\n",
      "\u001b[0;31mTypeError\u001b[0m: cannot unpack non-iterable NoneType object"
     ]
    }
   ],
   "source": [
    "samples = fazer_aquisicao(\n",
    "    sample_rate = sample_rate,\n",
    "    center_freq = center_freq,\n",
    "    gain = 1,\n",
    "    nsamples = 1024\n",
    ")\n",
    "fazer_grafico(\n",
    "    samples = samples,\n",
    "    sample_rate = sample_rate,\n",
    "    center_freq = center_freq\n",
    ")\n",
    "freq, mag = obter_magnitude(\n",
    "    freq = center_freq,\n",
    "    samples = samples,\n",
    "    sample_rate = sample_rate,\n",
    "    center_freq = center_freq\n",
    ")\n",
    "print(\"Na frequência\", freq, \"a magnitude é de\", mag, \"dB\")\n",
    "\n",
    "name = 'triagular_59hz_a'\n",
    "np.save(f'measurements/{name}.npy', samples)\n",
    "plt.savefig(f'measurements/{name}.png')\n",
    "\n"
   ]
  },
  {
   "cell_type": "code",
   "execution_count": 44,
   "id": "670a5d55",
   "metadata": {},
   "outputs": [
    {
     "data": {
      "text/plain": [
       "<Figure size 432x288 with 0 Axes>"
      ]
     },
     "metadata": {},
     "output_type": "display_data"
    }
   ],
   "source": []
  },
  {
   "cell_type": "code",
   "execution_count": 29,
   "id": "e54204e8",
   "metadata": {},
   "outputs": [],
   "source": [
    "#samples_loaded = np.load('measurements/triagular_100khz_a.npy')"
   ]
  },
  {
   "cell_type": "code",
   "execution_count": null,
   "id": "fa1fdf12",
   "metadata": {},
   "outputs": [],
   "source": []
  }
 ],
 "metadata": {
  "kernelspec": {
   "display_name": "Python 3 (ipykernel)",
   "language": "python",
   "name": "python3"
  },
  "language_info": {
   "codemirror_mode": {
    "name": "ipython",
    "version": 3
   },
   "file_extension": ".py",
   "mimetype": "text/x-python",
   "name": "python",
   "nbconvert_exporter": "python",
   "pygments_lexer": "ipython3",
   "version": "3.8.10"
  }
 },
 "nbformat": 4,
 "nbformat_minor": 5
}
